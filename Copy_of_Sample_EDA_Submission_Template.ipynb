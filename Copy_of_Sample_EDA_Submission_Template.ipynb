{
  "nbformat": 4,
  "nbformat_minor": 0,
  "metadata": {
    "colab": {
      "private_outputs": true,
      "provenance": [],
      "collapsed_sections": [
        "lQ7QKXXCp7Bj",
        "448CDAPjqfQr",
        "ijmpgYnKYklI",
        "-JiQyfWJYklI",
        "iky9q4vBYrdO",
        "F6T5p64dYrdO",
        "bbFf2-_FphqN",
        "_ouA3fa0phqN",
        "Seke61FWphqN",
        "t27r6nlMphqO",
        "r2jJGEOYphqO",
        "jj7wYXLtphqO",
        "eZrbJ2SmphqO",
        "rFu4xreNphqO",
        "gCFgpxoyphqP",
        "OVtJsKN_phqQ",
        "lssrdh5qphqQ",
        "1M8mcRywphqQ",
        "tgIPom80phqQ",
        "JMzcOPDDphqR",
        "X_VqEhTip1ck",
        "8zGJKyg5p1ck",
        "PVzmfK_Ep1ck",
        "ylSl6qgtp1ck",
        "ZWILFDl5p1ck",
        "M7G43BXep1ck",
        "E6MkPsBcp1cl",
        "2cELzS2fp1cl",
        "3MPXvC8up1cl",
        "UV0SzAkaZNRQ",
        "YPEH6qLeZNRQ",
        "EXh0U9oCveiU",
        "22aHeOlLveiV",
        "gIfDvo9L0UH2"
      ],
      "include_colab_link": true
    },
    "kernelspec": {
      "name": "python3",
      "display_name": "Python 3"
    },
    "language_info": {
      "name": "python"
    }
  },
  "cells": [
    {
      "cell_type": "markdown",
      "metadata": {
        "id": "view-in-github",
        "colab_type": "text"
      },
      "source": [
        "<a href=\"https://colab.research.google.com/github/Parshya8/Hotel_booking_analysis/blob/main/Copy_of_Sample_EDA_Submission_Template.ipynb\" target=\"_parent\"><img src=\"https://colab.research.google.com/assets/colab-badge.svg\" alt=\"Open In Colab\"/></a>"
      ]
    },
    {
      "cell_type": "markdown",
      "source": [
        "# **Project Name**    - \n",
        "\n"
      ],
      "metadata": {
        "id": "vncDsAP0Gaoa"
      }
    },
    {
      "cell_type": "markdown",
      "source": [
        "##### **Project Type**    - Hotel Booking Analysis\n",
        "##### **Contribution**    - Individual\n"
      ],
      "metadata": {
        "id": "beRrZCGUAJYm"
      }
    },
    {
      "cell_type": "markdown",
      "source": [
        "# **Project Summary -**"
      ],
      "metadata": {
        "id": "FJNUwmbgGyua"
      }
    },
    {
      "cell_type": "markdown",
      "source": [
        "1. In this project,we began to explore the dataset in which Hotel Booking comprises of two types of types of hotels i.e City Hotel and Resort Hotel.\n",
        "\n",
        "2. In this dataset,There are 119390 rows and 32 columns.\n",
        "\n",
        "3. All the columns are divided into three dtypes:-Object,Float& Int.\n",
        "\n",
        "4. This Datasheet does have duplicate as well as null values.There are total of 31994 duplicate values and four columns have missing values.\n",
        "\n",
        "5. The maximum number of missing values are from \"Company\" column then followed by \"Agent\",\"Country\"and\"Children\"columns.The \"Children\" columns consists of only 4 null values while\"Company\"column consist of 112593 null values.The total no of rows are 119390 and columns are 32.\n",
        "\n",
        "6. In this project,we have divide the data manipulation workflow into three different categories i.e Data collection,Data cleaning and manipulation and EDA.\n",
        "\n",
        "7. In moving further we have used various basic function and attributes i.e\n",
        "Data collections first step to find different columns which is done by using various methods like Head(),tail(),info(),describe(),columns() and some others methods used for data collection.\n",
        "\n",
        "8. In this dataset there are both duplicates and missing values available.So we have to deal with that and as a result we have replaced the null and missing values and also have dropped the duplicate values.\n",
        "\n",
        "9. The further we converted the datatypes of columns into appropriate datatype.We also added some columns.This dataset was also containing duplicate values so duplicate values was dropped.\n",
        "\n",
        "10. We have found that there were some rows in which the combining values of adults,babies and childrens was 0 so this simply means there were no guests as 0 indicates presence of none.So there were no bookings made.So as as result ,We simply dropped in the rows where combining values of adults,babies and children columns was 0\n",
        "11. The data type of 'reservation_status_date'column was object type so it was changed to date type format for better use.There were two new columns that was added,one is'total_people' and other id 'total_stay'\n",
        "\n",
        "12. Before visualizing any type of data from the data set we need to do data wrangling so,for that we have checked the null value of all the columns so after completing the process of data visualization we moved to the data visualization part.\n",
        "\n",
        "13. Then we have started the data visualization part.We have done the visualization in a structured way while following \"UBM\"Rule.\n",
        "\n",
        "U- Univariate Analysis\n",
        "\n",
        "B- Bivariate Analysis(Numerical-Categorical)\n",
        "\n",
        "M- Multivariate Analysis\n",
        "\n",
        "  \n",
        "\n",
        "*   In the data visualization proces we have used various charts and have dived  deep understanding the graphs to catch the proper insights that gives the buisness outcomes\n",
        "*   Then we have also used the corelation matrix to get the relationship between the different columns that also play a crucial role in understanding the wholesome relationship of the dataset.\n",
        "\n",
        "*   Thus we have Explode and the data discover important factors that govern the bookings.\n",
        "\n",
        "\n",
        "\n",
        "\n"
      ],
      "metadata": {
        "id": "F6v_1wHtG2nS"
      }
    },
    {
      "cell_type": "markdown",
      "source": [
        "# **GitHub Link -**"
      ],
      "metadata": {
        "id": "w6K7xa23Elo4"
      }
    },
    {
      "cell_type": "markdown",
      "source": [
        "https://github.com/Parshya8/Hotel_booking_analysis/blob/fe679c86155e4a617ffbaca2c534ac65f99de5fd/Copy_of_Sample_EDA_Submission_Template.ipynb"
      ],
      "metadata": {
        "id": "h1o69JH3Eqqn"
      }
    },
    {
      "cell_type": "markdown",
      "source": [
        "# **Problem Statement**\n"
      ],
      "metadata": {
        "id": "yQaldy8SH6Dl"
      }
    },
    {
      "cell_type": "markdown",
      "source": [
        "**Have you ever wondered when the best time of year to book a hotel room is ? or the optimal length of stay in order to get the best daily rate?what if you wanted to predict whether or not a hotel was likely to receive a disproportionately high number of special request?This hotel booking dataset can help you explore those questions!This data is contains booking information of city hotel and resort hotel,and includes information such as when the booking was made,length  of stay the number of adult,children ,babies etc.**"
      ],
      "metadata": {
        "id": "DpeJGUA3kjGy"
      }
    },
    {
      "cell_type": "markdown",
      "source": [
        "#### **Define Your Business Objective?**"
      ],
      "metadata": {
        "id": "PH-0ReGfmX4f"
      }
    },
    {
      "cell_type": "markdown",
      "source": [
        "Discovering the important factors and that govern bookings and explore and analysis the data for buisness output."
      ],
      "metadata": {
        "id": "PhDvGCAqmjP1"
      }
    },
    {
      "cell_type": "markdown",
      "source": [
        "# **General Guidelines** : -  "
      ],
      "metadata": {
        "id": "mDgbUHAGgjLW"
      }
    },
    {
      "cell_type": "markdown",
      "source": [
        "1.   Well-structured, formatted, and commented code is required. \n",
        "2.   Exception Handling, Production Grade Code & Deployment Ready Code will be a plus. Those students will be awarded some additional credits. \n",
        "     \n",
        "     The additional credits will have advantages over other students during Star Student selection.\n",
        "       \n",
        "             [ Note: - Deployment Ready Code is defined as, the whole .ipynb notebook should be executable in one go\n",
        "                       without a single error logged. ]\n",
        "\n",
        "3.   Each and every logic should have proper comments.\n",
        "4. You may add as many number of charts you want. Make Sure for each and every chart the following format should be answered.\n",
        "        \n",
        "\n",
        "```\n",
        "# Chart visualization code\n",
        "```\n",
        "            \n",
        "\n",
        "*   Why did you pick the specific chart?\n",
        "*   What is/are the insight(s) found from the chart?\n",
        "* Will the gained insights help creating a positive business impact? \n",
        "Are there any insights that lead to negative growth? Justify with specific reason.\n",
        "\n",
        "5. You have to create at least 20 logical & meaningful charts having important insights.\n",
        "\n",
        "\n",
        "[ Hints : - Do the Vizualization in  a structured way while following \"UBM\" Rule. \n",
        "\n",
        "U - Univariate Analysis,\n",
        "\n",
        "B - Bivariate Analysis (Numerical - Categorical, Numerical - Numerical, Categorical - Categorical)\n",
        "\n",
        "M - Multivariate Analysis\n",
        " ]\n",
        "\n",
        "\n",
        "\n"
      ],
      "metadata": {
        "id": "ZrxVaUj-hHfC"
      }
    },
    {
      "cell_type": "markdown",
      "source": [
        "# ***Let's Begin !***"
      ],
      "metadata": {
        "id": "O_i_v8NEhb9l"
      }
    },
    {
      "cell_type": "markdown",
      "source": [
        "## ***1. Know Your Data***"
      ],
      "metadata": {
        "id": "HhfV-JJviCcP"
      }
    },
    {
      "cell_type": "markdown",
      "source": [
        "### Import Libraries"
      ],
      "metadata": {
        "id": "Y3lxredqlCYt"
      }
    },
    {
      "cell_type": "code",
      "source": [
        "# Import Libraries\n",
        "import numpy as np\n",
        "import pandas as pd\n",
        "import matplotlib.pyplot as plt\n",
        "%matplotlib inline\n",
        "from datetime import datetime\n",
        "import seaborn as sns"
      ],
      "metadata": {
        "id": "M8Vqi-pPk-HR"
      },
      "execution_count": null,
      "outputs": []
    },
    {
      "cell_type": "code",
      "source": [
        "from google.colab import drive\n",
        "drive.mount('/content/drive')"
      ],
      "metadata": {
        "id": "2XW2MapC41WB"
      },
      "execution_count": null,
      "outputs": []
    },
    {
      "cell_type": "markdown",
      "source": [
        "### Dataset Loading"
      ],
      "metadata": {
        "id": "3RnN4peoiCZX"
      }
    },
    {
      "cell_type": "code",
      "source": [
        "# Load Dataset\n",
        "Hotel_booking_df = pd.read_csv('/content/drive/MyDrive/Project_file.csv/Hotel Bookings.csv')"
      ],
      "metadata": {
        "id": "4CkvbW_SlZ_R"
      },
      "execution_count": null,
      "outputs": []
    },
    {
      "cell_type": "markdown",
      "source": [
        "### Dataset First View"
      ],
      "metadata": {
        "id": "x71ZqKXriCWQ"
      }
    },
    {
      "cell_type": "code",
      "source": [
        "# Dataset First Look\n",
        "Hotel_booking_df"
      ],
      "metadata": {
        "id": "LWNFOSvLl09H"
      },
      "execution_count": null,
      "outputs": []
    },
    {
      "cell_type": "code",
      "source": [
        "# Head of the dataset\n",
        "Hotel_booking_df.head()"
      ],
      "metadata": {
        "id": "9IriLC93xv8f"
      },
      "execution_count": null,
      "outputs": []
    },
    {
      "cell_type": "code",
      "source": [
        "# Tail of the dataset\n",
        "Hotel_booking_df.tail()"
      ],
      "metadata": {
        "id": "7bJuceZlx7W6"
      },
      "execution_count": null,
      "outputs": []
    },
    {
      "cell_type": "markdown",
      "source": [
        "### Dataset Rows & Columns count"
      ],
      "metadata": {
        "id": "7hBIi_osiCS2"
      }
    },
    {
      "cell_type": "code",
      "source": [
        "# Dataset Rows & Columns count\n",
        "Hotel_booking_df.shape"
      ],
      "metadata": {
        "id": "Kllu7SJgmLij"
      },
      "execution_count": null,
      "outputs": []
    },
    {
      "cell_type": "markdown",
      "source": [
        "### Dataset Information"
      ],
      "metadata": {
        "id": "JlHwYmJAmNHm"
      }
    },
    {
      "cell_type": "code",
      "source": [
        "# Dataset Info\n",
        "Hotel_booking_df.info()"
      ],
      "metadata": {
        "id": "e9hRXRi6meOf"
      },
      "execution_count": null,
      "outputs": []
    },
    {
      "cell_type": "markdown",
      "source": [
        "#### Duplicate Values"
      ],
      "metadata": {
        "id": "35m5QtbWiB9F"
      }
    },
    {
      "cell_type": "code",
      "source": [
        "# Duplicates value count\n",
        "len(Hotel_booking_df[Hotel_booking_df.duplicated()])\n"
      ],
      "metadata": {
        "id": "YD16l4p25_md"
      },
      "execution_count": null,
      "outputs": []
    },
    {
      "cell_type": "code",
      "source": [
        "# Vilsulization duplicate value through count plot.\n",
        "plt.figure(figsize=(12,8))\n",
        "sns.countplot(x=Hotel_booking_df.duplicated())"
      ],
      "metadata": {
        "id": "83SLJ8Iik799"
      },
      "execution_count": null,
      "outputs": []
    },
    {
      "cell_type": "markdown",
      "source": [
        "#### Missing Values/Null Values"
      ],
      "metadata": {
        "id": "PoPl-ycgm1ru"
      }
    },
    {
      "cell_type": "code",
      "source": [
        "# Missing Values/Null Values Count\n",
        "print(Hotel_booking_df.isnull().sum().sort_values(ascending=False))"
      ],
      "metadata": {
        "id": "GgHWkxvamxVg"
      },
      "execution_count": null,
      "outputs": []
    },
    {
      "cell_type": "code",
      "source": [
        "# Visualizing the missing values\n",
        "plt.figure(figsize=(12,8))\n",
        "sns.heatmap(Hotel_booking_df.isnull(),cbar=False,cmap='viridis')\n",
        "plt.xlabel('Name of columns',fontsize=14)\n",
        "plt.title('Place of missing values in column',fontsize=14)"
      ],
      "metadata": {
        "id": "3q5wnI3om9sJ"
      },
      "execution_count": null,
      "outputs": []
    },
    {
      "cell_type": "markdown",
      "source": [
        "### What did you know about your dataset?"
      ],
      "metadata": {
        "id": "H0kj-8xxnORC"
      }
    },
    {
      "cell_type": "markdown",
      "source": [
        "\n",
        "\n",
        "*   This data contains 119390 rows and 32 columns.\n",
        "*   All the columns are divided into three types.Object,Float64,Int64.\n",
        "*   This datasheet does have duplicate as well as null values.There are total of 31994 duplicate values and four columns have missing values.\n",
        "\n",
        "*   The maximum number of missing values are from \"company\"column then followed by\"Agent\",\"Country\",and \"Children\" columns.The \"Children\"columns consist of only 4 null values while\"company\"column of 112593 null values.\n",
        "\n"
      ],
      "metadata": {
        "id": "gfoNAAC-nUe_"
      }
    },
    {
      "cell_type": "markdown",
      "source": [
        "## ***2. Understanding Your Variables***"
      ],
      "metadata": {
        "id": "nA9Y7ga8ng1Z"
      }
    },
    {
      "cell_type": "code",
      "source": [
        "# Dataset Columns\n",
        "print(Hotel_booking_df.columns)"
      ],
      "metadata": {
        "id": "j7xfkqrt5Ag5"
      },
      "execution_count": null,
      "outputs": []
    },
    {
      "cell_type": "code",
      "source": [
        "# Dataset Describe\n",
        "Hotel_booking_df.describe()"
      ],
      "metadata": {
        "id": "DnOaZdaE5Q5t"
      },
      "execution_count": null,
      "outputs": []
    },
    {
      "cell_type": "markdown",
      "source": [
        "### Variables Description "
      ],
      "metadata": {
        "id": "PBTbrJXOngz2"
      }
    },
    {
      "cell_type": "markdown",
      "source": [
        "\n",
        "\n",
        "1.   hotel:Name of the hotel(Resort and City Hotel)\n",
        "2.   is_canceled:If the booking was cancelled(1) or not cancelled (0)\n",
        "3.   lead_time:Number of days that elapsed between the entering date of the booking into the PMS and the arrival date\n",
        "4.   arrival_date_year:Year of the arrival date\n",
        "5.   arrival_date_month:Month of month arrival date\n",
        "6.   arrival_date_week_number:Week number of arrival date\n",
        "7.   arrival_date_day_of_month:Day of arrival date\n",
        "8.   stays_in_weekend_nights:Number of weekend nights(Saturday and Sunday)the guest stayed or booked to stay at the hotel\n",
        "9.   stay_in_weeknights:Number of weeknights(Mon to Fri)the guest stayed or booked to stay at the hotel\n",
        "10.  adults:Number of adults among guests\n",
        "11.  children:Number of children among guest\n",
        "12.  babies:Number of babies among guests\n",
        "13.  meal:kind of meal opted for\n",
        "14.  country:Country code\n",
        "15.  market_segment:Which segment customer belongs to\n",
        "16.  disturbution_channel:Name of the booking distribution channel The term 'TA'means 'Travel agents' & 'TO' means 'Tour Operators'\n",
        "17.  is_repeated_guest:If the booking was done from a repeated guest(1) or not (0)\n",
        "18.  previous_cancellation:Number of previous booking that were cancelled by the customer prior to the current booking\n",
        "19.  previous_booking_not_canceled:Number of previous booking not cancelled by the customer prior to the current booking\n",
        "20.  reserved_room_type:Code of room type reserved\n",
        "21.  assigned_room_type:Code of room type assigned\n",
        "22.  booking_chareges:Number of the charges/amendments made to the booking\n",
        "23.  deposite_type:Type of the made by the guest\n",
        "24.  agent:ID of the company that made the booking\n",
        "25.  company:ID of the company that made that booking\n",
        "26.  days_in_waiting_list:Number of days the booking was in the waiting list\n",
        "27.  customer_type:Type of customers,assuming one of the four categories\n",
        "adr:Average daily rate\n",
        "28.  required_car_parking_space:Number of car parking spaces required by the customer \n",
        "29.  total_of_special_request:Number of special request made by the customer\n",
        "30.  reservation_status:Reservation status \n",
        "31.  reservation_status_date:Date at which the last reservation status was updated\n",
        "\n"
      ],
      "metadata": {
        "id": "aJV4KIxSnxay"
      }
    },
    {
      "cell_type": "markdown",
      "source": [
        "### Check Unique Values for each variable."
      ],
      "metadata": {
        "id": "u3PMJOP6ngxN"
      }
    },
    {
      "cell_type": "code",
      "source": [
        "# Check Unique Values for each variable.\n",
        "for i in Hotel_booking_df.columns.tolist():\n",
        "  print(\"Number of unique value is\",i,\"is\",Hotel_booking_df[i].nunique())"
      ],
      "metadata": {
        "id": "zms12Yq5n-jE"
      },
      "execution_count": null,
      "outputs": []
    },
    {
      "cell_type": "code",
      "source": [
        "#Checking the unique value one by one\n",
        "#Checking the unique values of 'hotel'\n",
        "Hotel_booking_df['hotel'].unique()"
      ],
      "metadata": {
        "id": "gY_npnzrody5"
      },
      "execution_count": null,
      "outputs": []
    },
    {
      "cell_type": "code",
      "source": [
        "#Checking the unique values of 'arrival_date_year'\n",
        "Hotel_booking_df['arrival_date_year'].unique()"
      ],
      "metadata": {
        "id": "HaFY7HUMoohW"
      },
      "execution_count": null,
      "outputs": []
    },
    {
      "cell_type": "code",
      "source": [
        "#Checking the unique values of 'is_canceled'\n",
        "Hotel_booking_df['is_canceled'].unique()"
      ],
      "metadata": {
        "id": "jeQVTnhToySv"
      },
      "execution_count": null,
      "outputs": []
    },
    {
      "cell_type": "code",
      "source": [
        "#Checking the unique values of 'meal'\n",
        "Hotel_booking_df['meal'].unique()"
      ],
      "metadata": {
        "id": "w6V3D6WxpPZT"
      },
      "execution_count": null,
      "outputs": []
    },
    {
      "cell_type": "code",
      "source": [
        "#Checking the unique values of 'distribution_channel'\n",
        "Hotel_booking_df['distribution_channel'].unique()"
      ],
      "metadata": {
        "id": "hANSjHIipaAF"
      },
      "execution_count": null,
      "outputs": []
    },
    {
      "cell_type": "code",
      "source": [
        "#Checking the unique values of 'market_segment'\n",
        "Hotel_booking_df['market_segment'].unique()"
      ],
      "metadata": {
        "id": "ktls6nXLphCx"
      },
      "execution_count": null,
      "outputs": []
    },
    {
      "cell_type": "code",
      "source": [
        "#Checking the unique values of 'children'\n",
        "Hotel_booking_df['children'].unique()"
      ],
      "metadata": {
        "id": "l5or_qDqptk0"
      },
      "execution_count": null,
      "outputs": []
    },
    {
      "cell_type": "markdown",
      "source": [
        "## 3. ***Data Wrangling***"
      ],
      "metadata": {
        "id": "dauF4eBmngu3"
      }
    },
    {
      "cell_type": "markdown",
      "source": [
        "### Data Wrangling Code"
      ],
      "metadata": {
        "id": "bKJF3rekwFvQ"
      }
    },
    {
      "cell_type": "code",
      "source": [
        "# Write your code to make your dataset analysis ready.\n",
        "\n",
        "#Missing values in columns\n",
        "Hotel_booking_df.isnull().sum().sort_values(ascending=False)[:5]"
      ],
      "metadata": {
        "id": "wk-9a2fpoLcV"
      },
      "execution_count": null,
      "outputs": []
    },
    {
      "cell_type": "code",
      "source": [
        "#Replacing null values of agent,company and children with value 0 and replacing null values of country column with other\n",
        "Hotel_booking_df[['company','agent','children']]= Hotel_booking_df[['company','agent','children']].fillna(0)\n",
        "Hotel_booking_df[['country']] = Hotel_booking_df[['country']].fillna('other')"
      ],
      "metadata": {
        "id": "ykc6VL14_7G1"
      },
      "execution_count": null,
      "outputs": []
    },
    {
      "cell_type": "code",
      "source": [
        "#Checking\n",
        "Hotel_booking_df.isnull().sum().sort_values(ascending=False)[:5]"
      ],
      "metadata": {
        "id": "A8U7aaUb__3L"
      },
      "execution_count": null,
      "outputs": []
    },
    {
      "cell_type": "code",
      "source": [
        "#Checking no of duplicate values in the dataset\n",
        "len(Hotel_booking_df[Hotel_booking_df.duplicated()])"
      ],
      "metadata": {
        "id": "5dcFNBgBAIP9"
      },
      "execution_count": null,
      "outputs": []
    },
    {
      "cell_type": "code",
      "source": [
        "#Droping the duplicates\n",
        "Hotel_booking_df=Hotel_booking_df.drop_duplicates()\n",
        "Hotel_booking_df"
      ],
      "metadata": {
        "id": "m00adpu9APSm"
      },
      "execution_count": null,
      "outputs": []
    },
    {
      "cell_type": "code",
      "source": [
        "#Checking the shape of the dataset whose combining values of adults,babies and children columns is 0\n",
        "Hotel_booking_df[Hotel_booking_df['adults']+Hotel_booking_df['babies']+Hotel_booking_df['children']==0].shape"
      ],
      "metadata": {
        "id": "yShLZjcuAhc4"
      },
      "execution_count": null,
      "outputs": []
    },
    {
      "cell_type": "code",
      "source": [
        "#Checking the shape of new updated dataset\n",
        "Hotel_booking_df.shape\n"
      ],
      "metadata": {
        "id": "FhqphBb8AnhP"
      },
      "execution_count": null,
      "outputs": []
    },
    {
      "cell_type": "code",
      "source": [
        "#Creating the copy of the dataset further analysing\n",
        "Hotel_booking_df1 = Hotel_booking_df.copy()"
      ],
      "metadata": {
        "id": "r3o21Hu_zXMC"
      },
      "execution_count": null,
      "outputs": []
    },
    {
      "cell_type": "code",
      "source": [
        "#Dropping the rows where combining values of adults,babies and children columns is 0 because that mean no booking were made.\n",
        "Hotel_booking_df.drop(Hotel_booking_df[Hotel_booking_df['adults']+Hotel_booking_df['babies']+Hotel_booking_df['children']==0].index,inplace=True)"
      ],
      "metadata": {
        "id": "IOote0XMF5c1"
      },
      "execution_count": null,
      "outputs": []
    },
    {
      "cell_type": "code",
      "source": [
        "#Changing datatype of column 'reservation_status_date'from object to date_type\n",
        "Hotel_booking_df1['reservation_status_date'] = pd.to_datetime(Hotel_booking_df1['reservation_status_date'],format='%Y-%m-%d')"
      ],
      "metadata": {
        "id": "UvScqAcqtB4q"
      },
      "execution_count": null,
      "outputs": []
    },
    {
      "cell_type": "markdown",
      "source": [
        "# **Adding important columns** #\n",
        "\n"
      ],
      "metadata": {
        "id": "EqvOE4DWMOIv"
      }
    },
    {
      "cell_type": "code",
      "source": [
        "#Adding total staying days in hotel\n",
        "Hotel_booking_df1['total_stays'] = Hotel_booking_df1['stays_in_weekend_nights'] +Hotel_booking_df1['stays_in_week_nights']\n",
        "#Adding total number of people\n",
        "Hotel_booking_df1['total_people'] = Hotel_booking_df1['adults']+Hotel_booking_df1['children']+Hotel_booking_df1['babies']"
      ],
      "metadata": {
        "id": "WhaKzc5Uufoi"
      },
      "execution_count": null,
      "outputs": []
    },
    {
      "cell_type": "code",
      "source": [
        "#Checking the shape of dataset\n",
        "Hotel_booking_df1.shape"
      ],
      "metadata": {
        "id": "qgGzzaw5vs2k"
      },
      "execution_count": null,
      "outputs": []
    },
    {
      "cell_type": "markdown",
      "source": [
        "### What all manipulations have you done and insights you found?"
      ],
      "metadata": {
        "id": "MSa1f5Uengrz"
      }
    },
    {
      "cell_type": "markdown",
      "source": [
        "**Manipulations and the insights found by us are as followa**\n",
        "\n",
        "*  We found that there were four columns containing null values so we had null values in columns-Company,Agent,Country and Children.\n",
        "\n",
        "1. So, for company,children and  agent we have filled the missing values with 0\n",
        "2. For country,We have fill missing values with object'Others'.\n",
        "3. As the count of missing values in Children Column was only 4,so it wasreplaced with 0 conidering no children.\n",
        "\n",
        "*  This dataset also containing the duplicates values so duplicates values is dropped.\n",
        "\n",
        "*  We found that there were some rows in which the combining values of adults,babies,and children was 0 so this simply there were no guests as 0 indicates presence of none.SO,there were no bookings made.so as a result,We dropped the rows where combining values od adults,babies and children columns was 0.\n",
        "*  The data type of 'reservation_status_date' is changed from object data type to data type format for better use.\n",
        "*  There were two new columns are added, one is 'total_stays' and other is 'total_people'"
      ],
      "metadata": {
        "id": "LbyXE7I1olp8"
      }
    },
    {
      "cell_type": "markdown",
      "source": [
        "## ***4. Data Vizualization, Storytelling & Experimenting with charts : Understand the relationships between variables***"
      ],
      "metadata": {
        "id": "GF8Ens_Soomf"
      }
    },
    {
      "cell_type": "markdown",
      "source": [
        "#### Chart - 1"
      ],
      "metadata": {
        "id": "0wOQAZs5pc--"
      }
    },
    {
      "cell_type": "code",
      "source": [
        "# Chart - 1 visualization code\n",
        "Hotel_booking_df1['hotel'].value_counts().plot.pie(explode=[0.05,0.05],autopct='%1.1f%%',shadow=True,figsize=(12,10),fontsize=18)\n",
        "plt.title('Pie chart for most preffered hotel',fontsize=15)"
      ],
      "metadata": {
        "id": "7v_ESjsspbW7"
      },
      "execution_count": null,
      "outputs": []
    },
    {
      "cell_type": "markdown",
      "source": [
        "##### 1. Why did you pick the specific chart?"
      ],
      "metadata": {
        "id": "K5QZ13OEpz2H"
      }
    },
    {
      "cell_type": "markdown",
      "source": [
        "**To present the data that in which hotel more booking have been done.**\n",
        "\n"
      ],
      "metadata": {
        "id": "XESiWehPqBRc"
      }
    },
    {
      "cell_type": "markdown",
      "source": [
        "##### 2. What is/are the insight(s) found from the chart?"
      ],
      "metadata": {
        "id": "lQ7QKXXCp7Bj"
      }
    },
    {
      "cell_type": "markdown",
      "source": [
        "**Here, we found that the booking number is Higher in City Hotel which is 61.10% than Resort Hotel which is 38.90%. Hence we can say that City hotel has more consumption**"
      ],
      "metadata": {
        "id": "C_j1G7yiqdRP"
      }
    },
    {
      "cell_type": "markdown",
      "source": [
        "##### 3. Will the gained insights help creating a positive business impact? \n",
        "Are there any insights that lead to negative growth? Justify with specific reason."
      ],
      "metadata": {
        "id": "448CDAPjqfQr"
      }
    },
    {
      "cell_type": "markdown",
      "source": [
        "Yes, for both Hotels, this data making some positive business impact : -\n",
        "\n",
        "City Hotel :- Provided more services to attract more guest to increase more revenue.\n",
        "\n",
        "Resort Hotel :- Find solution to attract guest and find what city hotel did to attract guest."
      ],
      "metadata": {
        "id": "3cspy4FjqxJW"
      }
    },
    {
      "cell_type": "markdown",
      "source": [
        "#### Chart - 2"
      ],
      "metadata": {
        "id": "KSlN3yHqYklG"
      }
    },
    {
      "cell_type": "code",
      "source": [
        "# Chart - 2 visualization code\n",
        "Group_by_hotel=Hotel_booking_df1.groupby('hotel')\n"
      ],
      "metadata": {
        "id": "R4YgtaqtYklH"
      },
      "execution_count": null,
      "outputs": []
    },
    {
      "cell_type": "code",
      "source": [
        "#Group by hotel adr\n",
        "Highest_adr=Group_by_hotel['adr'].mean().reset_index()\n",
        "#Set plot size\n",
        "plt.figure(figsize=(10,8))\n",
        "#Set the x , y and title label\n",
        "plt.xlabel('Hotel type',fontsize=15)\n",
        "plt.ylabel('ADR',fontsize=15)\n",
        "plt.title(\"Avg ADR of each hotel type\",fontsize=15)\n",
        "#Plot the graph\n",
        "sns.barplot(x=Highest_adr['hotel'],y=Highest_adr['adr'])"
      ],
      "metadata": {
        "id": "-21LZt8-xdkw"
      },
      "execution_count": null,
      "outputs": []
    },
    {
      "cell_type": "markdown",
      "source": [
        "##### 1. Why did you pick the specific chart?"
      ],
      "metadata": {
        "id": "t6dVpIINYklI"
      }
    },
    {
      "cell_type": "markdown",
      "source": [
        "To show the average adr of each hotel type in a clear and feasible way.we have used bar chart"
      ],
      "metadata": {
        "id": "5aaW0BYyYklI"
      }
    },
    {
      "cell_type": "markdown",
      "source": [
        "##### 2. What is/are the insight(s) found from the chart?"
      ],
      "metadata": {
        "id": "ijmpgYnKYklI"
      }
    },
    {
      "cell_type": "markdown",
      "source": [
        "City hotel has the highest ADR.This means city hotel generates the more revenue than the resort hotel.More the ADR more the revenue."
      ],
      "metadata": {
        "id": "PSx9atu2YklI"
      }
    },
    {
      "cell_type": "markdown",
      "source": [
        "##### 3. Will the gained insights help creating a positive business impact? \n",
        "Are there any insights that lead to negative growth? Justify with specific reason."
      ],
      "metadata": {
        "id": "-JiQyfWJYklI"
      }
    },
    {
      "cell_type": "markdown",
      "source": [
        "City hotel can do more advertising to get more customers that will ultimately add up to their revenue.City hotel aleready earning more but positive efforts towards growth will definitely adds alot to growth overall revenue."
      ],
      "metadata": {
        "id": "BcBbebzrYklV"
      }
    },
    {
      "cell_type": "markdown",
      "source": [
        "#### Chart - 3"
      ],
      "metadata": {
        "id": "EM7whBJCYoAo"
      }
    },
    {
      "cell_type": "code",
      "source": [
        "# Chart - 3 visualization code\n",
        "adr_and_stay = Hotel_booking_df1.groupby(['total_stays','adr','hotel']).agg('count').reset_index()\n",
        "adr_and_stay = adr_and_stay.iloc[:,:3]\n",
        "adr_and_stay = adr_and_stay.rename(columns={'is_canceled':'Number of stays'})\n",
        "adr_and_stay =adr_and_stay[:18000]\n",
        "adr_and_stay"
      ],
      "metadata": {
        "id": "t6GMdE67YoAp"
      },
      "execution_count": null,
      "outputs": []
    },
    {
      "cell_type": "code",
      "source": [
        "plt.figure(figsize=(16,8))\n",
        "sns.lineplot(x='total_stays',y='adr',data=adr_and_stay)\n",
        "plt.xlabel('Total_stay',fontsize=15)\n",
        "plt.ylabel('ADR',fontsize=15)\n",
        "plt.title('Relationshio between ADR and Total stay',fontsize=15)"
      ],
      "metadata": {
        "id": "71LKjjEz3BuW"
      },
      "execution_count": null,
      "outputs": []
    },
    {
      "cell_type": "markdown",
      "source": [
        "##### 1. Why did you pick the specific chart?"
      ],
      "metadata": {
        "id": "fge-S5ZAYoAp"
      }
    },
    {
      "cell_type": "markdown",
      "source": [
        "This is the line chart and help to show small show or slight change in graph is easy to spot.So we can easily track the ups and downs of the graph very precisely."
      ],
      "metadata": {
        "id": "5dBItgRVYoAp"
      }
    },
    {
      "cell_type": "markdown",
      "source": [
        "##### 2. What is/are the insight(s) found from the chart?"
      ],
      "metadata": {
        "id": "85gYPyotYoAp"
      }
    },
    {
      "cell_type": "markdown",
      "source": [
        "In this linechart we observe that total stay increases then the ADR is also increase,i.e total stays is directly proportional to the ADR."
      ],
      "metadata": {
        "id": "4jstXR6OYoAp"
      }
    },
    {
      "cell_type": "markdown",
      "source": [
        "##### 3. Will the gained insights help creating a positive business impact? \n",
        "Are there any insights that lead to negative growth? Justify with specific reason."
      ],
      "metadata": {
        "id": "RoGjAbkUYoAp"
      }
    },
    {
      "cell_type": "markdown",
      "source": [
        "So,the hotels should focus on increasing their ADR and more advertisiment  and better facilities and good offers will let the guest to stay more that will directly affect on ADR.Hotels should do more advertisment and increasing facilities so that total stay will increase."
      ],
      "metadata": {
        "id": "zfJ8IqMcYoAp"
      }
    },
    {
      "cell_type": "markdown",
      "source": [
        "#### Chart - 4"
      ],
      "metadata": {
        "id": "4Of9eVA-YrdM"
      }
    },
    {
      "cell_type": "code",
      "source": [
        "# Chart - 4 visualization code\n",
        "Hotel_booking_df1['is_repeated_guest'].value_counts().plot.pie(explode=(0.05,0.05),autopct='%1.1f%%',shadow=True,figsize=(14,10),fontsize=20,)\n",
        "plt.title('Percentage (%) of repeated guests',fontsize=15)"
      ],
      "metadata": {
        "id": "irlUoxc8YrdO"
      },
      "execution_count": null,
      "outputs": []
    },
    {
      "cell_type": "markdown",
      "source": [
        "##### 1. Why did you pick the specific chart?"
      ],
      "metadata": {
        "id": "iky9q4vBYrdO"
      }
    },
    {
      "cell_type": "markdown",
      "source": [
        "Pie chart are used to represent the proportional data or relative data in single chart.This pie chart is showing percentage of repeated guest or not(where 0 is not repeated guest and 1 is repeated guest)through pie chart with different area under circle."
      ],
      "metadata": {
        "id": "aJRCwT6DYrdO"
      }
    },
    {
      "cell_type": "markdown",
      "source": [
        "##### 2. What is/are the insight(s) found from the chart?"
      ],
      "metadata": {
        "id": "F6T5p64dYrdO"
      }
    },
    {
      "cell_type": "markdown",
      "source": [
        "Repeated guest is very few which is only 3.9% while 96.1% of guest not returning the same hotel.So its matter of thinking and proper steps to increase the number of repeated guest.In order to increase to retained the guest management should take feedback from guests and try to improve the service."
      ],
      "metadata": {
        "id": "Xx8WAJvtYrdO"
      }
    },
    {
      "cell_type": "markdown",
      "source": [
        "##### 3. Will the gained insights help creating a positive business impact? \n",
        "Are there any insights that lead to negative growth? Justify with specific reason."
      ],
      "metadata": {
        "id": "y-Ehk30pYrdP"
      }
    },
    {
      "cell_type": "markdown",
      "source": [
        "Yes the proportion  of repeated guest is very much low so if hotels work well then the increase in no of repeated guests will ultimately boost their revenue so Hotels can give alluring offers to non-repeating customers during off season to enhance revenue.So right steps should be taken like talking feedbacks,solving problems of customers within time limit and offering best offers to the customers."
      ],
      "metadata": {
        "id": "jLNxxz7MYrdP"
      }
    },
    {
      "cell_type": "markdown",
      "source": [
        "#### Chart - 5"
      ],
      "metadata": {
        "id": "bamQiAODYuh1"
      }
    },
    {
      "cell_type": "code",
      "source": [
        "# Chart - 5 visualization code\n",
        "Hotel_booking_df1['required_car_parking_spaces'].value_counts().plot.pie(explode=[0.05]*5,autopct='%1.1f%%',shadow=False,figsize=(14,20),fontsize=15,labels=None)\n",
        "labels=Hotel_booking_df1['required_car_parking_spaces'].value_counts().index\n",
        "plt.title('% Distrubution of required car parking space',fontsize=15)\n",
        "plt.legend(bbox_to_anchor=(0.85,1),loc='upper left',labels=labels)"
      ],
      "metadata": {
        "id": "TIJwrbroYuh3"
      },
      "execution_count": null,
      "outputs": []
    },
    {
      "cell_type": "markdown",
      "source": [
        "##### 1. Why did you pick the specific chart?"
      ],
      "metadata": {
        "id": "QHF8YVU7Yuh3"
      }
    },
    {
      "cell_type": "markdown",
      "source": [
        "We have used pie chart here because it gives the output in more understanding manner as we can clearly see the different two colors reflecting the demand of car parking space by guest."
      ],
      "metadata": {
        "id": "dcxuIMRPYuh3"
      }
    },
    {
      "cell_type": "markdown",
      "source": [
        "##### 2. What is/are the insight(s) found from the chart?"
      ],
      "metadata": {
        "id": "GwzvFGzlYuh3"
      }
    },
    {
      "cell_type": "markdown",
      "source": [
        "The pie chart shows 91.6 guest doesn't required car parking space.only 8.3% guests required only 1 parking space."
      ],
      "metadata": {
        "id": "uyqkiB8YYuh3"
      }
    },
    {
      "cell_type": "markdown",
      "source": [
        "##### 3. Will the gained insights help creating a positive business impact? \n",
        "Are there any insights that lead to negative growth? Justify with specific reason."
      ],
      "metadata": {
        "id": "qYpmQ266Yuh3"
      }
    },
    {
      "cell_type": "markdown",
      "source": [
        "Yes,the insights gained from here definitely help the hotels to provide better service it can be said that hotel need to work on car parking space as only 1 car parking  space required by 8.3% of guest so its better to have limited car parking space and use the remaining space for other importan work.So it is better to focus on other  areas to increase the quality of hotel rather than car parking space."
      ],
      "metadata": {
        "id": "_WtzZ_hCYuh4"
      }
    },
    {
      "cell_type": "markdown",
      "source": [
        "#### Chart - 6"
      ],
      "metadata": {
        "id": "OH-pJp9IphqM"
      }
    },
    {
      "cell_type": "code",
      "source": [
        "# Chart - 6 visualization code\n",
        "plt.figure(figsize=(18,10))\n",
        "sns.countplot(x=Hotel_booking_df1['meal'])\n",
        "plt.xlabel('Meal Type',fontsize=15)\n",
        "plt.ylabel('Count',fontsize=15)\n",
        "plt.title('Perferred Meal Type',fontsize=15)"
      ],
      "metadata": {
        "id": "kuRf4wtuphqN"
      },
      "execution_count": null,
      "outputs": []
    },
    {
      "cell_type": "markdown",
      "source": [
        "##### 1. Why did you pick the specific chart?"
      ],
      "metadata": {
        "id": "bbFf2-_FphqN"
      }
    },
    {
      "cell_type": "markdown",
      "source": [
        "This is count plot chart to get clear insights about the counts of different types of meal,We have used this count plot"
      ],
      "metadata": {
        "id": "loh7H2nzphqN"
      }
    },
    {
      "cell_type": "markdown",
      "source": [
        "##### 2. What is/are the insight(s) found from the chart?"
      ],
      "metadata": {
        "id": "_ouA3fa0phqN"
      }
    },
    {
      "cell_type": "markdown",
      "source": [
        "The insights that count plot graph is that most preferred meal type by the guests  is BB(Bead and Breakfast) and FB(Full Board ) is the least prefered meal type by the guest.\n",
        "List of the meal type as follows:BB-(Bead and Breakfast),FB-(Full Board ),HB-(Half Board),SC-(Self Catering)"
      ],
      "metadata": {
        "id": "VECbqPI7phqN"
      }
    },
    {
      "cell_type": "markdown",
      "source": [
        "##### 3. Will the gained insights help creating a positive business impact? \n",
        "Are there any insights that lead to negative growth? Justify with specific reason."
      ],
      "metadata": {
        "id": "Seke61FWphqN"
      }
    },
    {
      "cell_type": "markdown",
      "source": [
        "So,the insights here also have positive impact as hotels need to focus more on the BB meal type so that the majority of customers are satisfied whilw others type of meals should be given equal importance with proper management of food service so as to offer best services so as to offer best serivces to customers."
      ],
      "metadata": {
        "id": "DW4_bGpfphqN"
      }
    },
    {
      "cell_type": "markdown",
      "source": [
        "#### Chart - 7"
      ],
      "metadata": {
        "id": "PIIx-8_IphqN"
      }
    },
    {
      "cell_type": "code",
      "source": [
        "# Chart - 7 visualization code\n",
        "labels = Hotel_booking_df1['distribution_channel'].value_counts().index.tolist()\n",
        "\n",
        "distribution_channel_df=Hotel_booking_df1['distribution_channel'].value_counts().reset_index().rename(columns={'index':'ditribution_channel','distribution_channel':'count'})\n",
        "distribution_channel_df['percentage']=round(distribution_channel_df['count']*100/Hotel_booking_df1.shape[0],1)\n",
        "\n",
        "sizes=distribution_channel_df['percentage'].values.tolist()\n",
        "\n",
        "Hotel_booking_df1['distribution_channel'].value_counts().plot.pie(explode=[0.05,0.05,0.05,0.05,0.05],shadow=False,figsize=(15,8),fontsize=10,labels=None)\n",
        "\n",
        "\n",
        "labels = [f'{l},{s}%' for l,s in zip(labels,sizes)]\n",
        "plt.legend(bbox_to_anchor=(0.85,1),loc='upper left',labels=labels)\n",
        "plt.title('Mostly used Distribution channel for Hotel Bookings',fontsize=15)"
      ],
      "metadata": {
        "id": "lqAIGUfyphqO"
      },
      "execution_count": null,
      "outputs": []
    },
    {
      "cell_type": "code",
      "source": [
        "distribution_channel_df=Hotel_booking_df.groupby(['distribution_channel','hotel'])['adr'].mean().reset_index()\n",
        "\n",
        "\n",
        "plt.figure(figsize=(16,8))\n",
        "sns.barplot(x='distribution_channel',y='adr',data=distribution_channel_df,hue='hotel')\n",
        "plt.title('ADR across Distribution channel')"
      ],
      "metadata": {
        "id": "ZwHXCZAJCdf8"
      },
      "execution_count": null,
      "outputs": []
    },
    {
      "cell_type": "markdown",
      "source": [
        "##### 1. Why did you pick the specific chart?"
      ],
      "metadata": {
        "id": "t27r6nlMphqO"
      }
    },
    {
      "cell_type": "markdown",
      "source": [
        "First visualization graph is pie chart to clear understanding of mostly used to booking distribution channel with occupancy percentage of each booking channel.\n",
        "\n",
        "While in second visulization ,Bar char shows frequency count of values for the different levels of a categorical or nominal variable."
      ],
      "metadata": {
        "id": "iv6ro40sphqO"
      }
    },
    {
      "cell_type": "markdown",
      "source": [
        "##### 2. What is/are the insight(s) found from the chart?"
      ],
      "metadata": {
        "id": "r2jJGEOYphqO"
      }
    },
    {
      "cell_type": "markdown",
      "source": [
        "From the 1st above chart we found that TA/TO has been mostly (79.1%)used for booking hotels Direct constitutes of 14.9%,corporates constitutes of 5.8%,GDS constitutes of only 0.2% and rest undefined are 0%.\n",
        "\n",
        "From the above 2nd chart it is clear that 'Direct' and 'TA/TO' have almost equally contribution in the adr in both type of hotels i.e'City Hotel'and 'Resort Hotel',while GDS has highly contributed in adr in 'City Hotel'type GDS needs to increase Resort hotel booking Corporate These are corpotate hotel booking companies which makes bookings possible."
      ],
      "metadata": {
        "id": "Po6ZPi4hphqO"
      }
    },
    {
      "cell_type": "markdown",
      "source": [
        "##### 3. Will the gained insights help creating a positive business impact? \n",
        "Are there any insights that lead to negative growth? Justify with specific reason."
      ],
      "metadata": {
        "id": "b0JNsNcRphqO"
      }
    },
    {
      "cell_type": "markdown",
      "source": [
        "So,from this 1st graph we have got the insights that'TA/TO'is the leading one while Direct and corporates have the potential to grow as they occupy musch less space than the leading one.So a good understanding and relation of Hotels with 'TA/TO'will definetely add up to the growth and revenue\n",
        "\n",
        "\n",
        "Yes,the gained insights from 2nd visulization help different distribution channels to work on the spaces where they are lacking behind like GDS is lacking behind in the bookings of resort hotels GDS is dominating in terms of adr in case of city hotels but lacking behind in the category of resort hotel,so just taking proper steps in the right direction will help to increase  the overall revenue."
      ],
      "metadata": {
        "id": "xvSq8iUTphqO"
      }
    },
    {
      "cell_type": "markdown",
      "source": [
        "#### Chart - 8"
      ],
      "metadata": {
        "id": "BZR9WyysphqO"
      }
    },
    {
      "cell_type": "code",
      "source": [
        "# Chart - 8 visualization code\n",
        "Bookings_by_months_df=Hotel_booking_df1.groupby(['arrival_date_month'])['hotel'].count().reset_index().rename(columns={'hotel':'counts'})\n",
        "\n",
        "\n",
        "months=['January','February','March','April','May','June','July','August','September','October','November','December']\n",
        "\n",
        "Bookings_by_months_df['arrival_date_month'] = pd.Categorical(Bookings_by_months_df['arrival_date_month'],categories=months,ordered=True)\n",
        "\n",
        "Bookings_by_months_df=Bookings_by_months_df.sort_values('arrival_date_month')\n",
        "\n",
        "Bookings_by_months_df"
      ],
      "metadata": {
        "id": "TdPTWpAVphqO"
      },
      "execution_count": null,
      "outputs": []
    },
    {
      "cell_type": "code",
      "source": [
        "plt.figure(figsize=(22,10))\n",
        "\n",
        "\n",
        "sns.lineplot(x=Bookings_by_months_df['arrival_date_month'],y=Bookings_by_months_df['counts'])\n",
        "\n",
        "\n",
        "plt.title('Number of bookings across each month',fontsize=15)\n",
        "\n",
        "\n",
        "plt.xlabel('Month',fontsize=15)\n",
        "\n",
        "\n",
        "plt.ylabel('Number of bookings',fontsize=15)"
      ],
      "metadata": {
        "id": "IAWUg8RtRE9A"
      },
      "execution_count": null,
      "outputs": []
    },
    {
      "cell_type": "code",
      "source": [
        "stay = Hotel_booking_df1.groupby(['total_stays','hotel']).agg('count').reset_index()\n",
        "\n",
        "stay = stay.iloc[:,:3]\n",
        "\n",
        "stay = stay.rename(columns={'is_canceled':'Number of stays'})"
      ],
      "metadata": {
        "id": "np1EDyLyuts6"
      },
      "execution_count": null,
      "outputs": []
    },
    {
      "cell_type": "code",
      "source": [
        "\n",
        "plt.figure(figsize=(20,10))\n",
        "sns.barplot(x='total_stays',y='Number of stays',hue='hotel',data=stay)\n",
        "\n",
        "\n",
        "plt.title('Optimal Stay Length in Both hotel types',fontsize=15)\n",
        "plt.ylabel('Count of  stays',fontsize=15)\n",
        "plt.xlabel('Total_stay(days)',fontsize=15)"
      ],
      "metadata": {
        "id": "pWjuqFzNT5HK"
      },
      "execution_count": null,
      "outputs": []
    },
    {
      "cell_type": "markdown",
      "source": [
        "##### 1. Why did you pick the specific chart?"
      ],
      "metadata": {
        "id": "jj7wYXLtphqO"
      }
    },
    {
      "cell_type": "markdown",
      "source": [
        "Answer Here."
      ],
      "metadata": {
        "id": "Ob8u6rCTphqO"
      }
    },
    {
      "cell_type": "markdown",
      "source": [
        "##### 2. What is/are the insight(s) found from the chart?"
      ],
      "metadata": {
        "id": "eZrbJ2SmphqO"
      }
    },
    {
      "cell_type": "markdown",
      "source": [
        "Answer Here"
      ],
      "metadata": {
        "id": "mZtgC_hjphqO"
      }
    },
    {
      "cell_type": "markdown",
      "source": [
        "##### 3. Will the gained insights help creating a positive business impact? \n",
        "Are there any insights that lead to negative growth? Justify with specific reason."
      ],
      "metadata": {
        "id": "rFu4xreNphqO"
      }
    },
    {
      "cell_type": "markdown",
      "source": [
        "Answer Here"
      ],
      "metadata": {
        "id": "ey_0qi68phqO"
      }
    },
    {
      "cell_type": "markdown",
      "source": [
        "#### Chart - 9"
      ],
      "metadata": {
        "id": "YJ55k-q6phqO"
      }
    },
    {
      "cell_type": "code",
      "source": [
        "# Chart - 9 visualization code\n",
        "Hotel_booking_df1.hist(figsize=(24,18))\n",
        "plt.show()"
      ],
      "metadata": {
        "id": "B2aS4O1ophqO"
      },
      "execution_count": null,
      "outputs": []
    },
    {
      "cell_type": "markdown",
      "source": [
        "##### 1. Why did you pick the specific chart?"
      ],
      "metadata": {
        "id": "gCFgpxoyphqP"
      }
    },
    {
      "cell_type": "markdown",
      "source": [
        "Answer Here."
      ],
      "metadata": {
        "id": "TVxDimi2phqP"
      }
    },
    {
      "cell_type": "markdown",
      "source": [
        "##### 2. What is/are the insight(s) found from the chart?"
      ],
      "metadata": {
        "id": "OVtJsKN_phqQ"
      }
    },
    {
      "cell_type": "markdown",
      "source": [
        "Answer Here"
      ],
      "metadata": {
        "id": "ngGi97qjphqQ"
      }
    },
    {
      "cell_type": "markdown",
      "source": [
        "##### 3. Will the gained insights help creating a positive business impact? \n",
        "Are there any insights that lead to negative growth? Justify with specific reason."
      ],
      "metadata": {
        "id": "lssrdh5qphqQ"
      }
    },
    {
      "cell_type": "markdown",
      "source": [
        "Answer Here"
      ],
      "metadata": {
        "id": "tBpY5ekJphqQ"
      }
    },
    {
      "cell_type": "markdown",
      "source": [
        "#### Chart - 10"
      ],
      "metadata": {
        "id": "U2RJ9gkRphqQ"
      }
    },
    {
      "cell_type": "code",
      "source": [
        "# Chart - 10 visualization code\n",
        "plt.figure(figsize=(14,6))\n",
        "sns.countplot(x= 'hotel',hue='is_canceled',palette='Set2', data=Hotel_booking_df1)\n",
        "plt.legend(['Confirmed','Canceled'])\n",
        "plt.title(\"Hotel wise confirmation and cancellation of the bookings\",fontsize=20)\n",
        "plt.xlabel(\"Hotel\",fontsize=15)\n",
        "plt.ylabel(\"Count of confirmation and cancellations\",fontsize=15)"
      ],
      "metadata": {
        "id": "GM7a4YP4phqQ"
      },
      "execution_count": null,
      "outputs": []
    },
    {
      "cell_type": "code",
      "source": [
        "\n",
        "data_not_canceled = Hotel_booking_df1[Hotel_booking_df1['is_canceled']==0]\n",
        "\n",
        "\n",
        "sns.set_style(style='darkgrid')\n",
        "plt.figure(figsize=(12,5))\n",
        "sns.countplot(x='arrival_date_year',hue='hotel',palette='tab10',data=data_not_canceled)\n",
        "plt.legend(['Resort Hotel','City Hotel'])\n",
        "plt.title('Year wise booking of hotels',fontsize=18)\n",
        "plt.xlabel('Year',fontsize=15)\n",
        "plt.ylabel('Number of booking',fontsize=15)"
      ],
      "metadata": {
        "id": "W020ZNnkApuX"
      },
      "execution_count": null,
      "outputs": []
    },
    {
      "cell_type": "code",
      "source": [],
      "metadata": {
        "id": "juYTwjd8Bh-F"
      },
      "execution_count": null,
      "outputs": []
    },
    {
      "cell_type": "markdown",
      "source": [
        "##### 1. Why did you pick the specific chart?"
      ],
      "metadata": {
        "id": "1M8mcRywphqQ"
      }
    },
    {
      "cell_type": "markdown",
      "source": [
        "Answer Here."
      ],
      "metadata": {
        "id": "8agQvks0phqQ"
      }
    },
    {
      "cell_type": "markdown",
      "source": [
        "##### 2. What is/are the insight(s) found from the chart?"
      ],
      "metadata": {
        "id": "tgIPom80phqQ"
      }
    },
    {
      "cell_type": "markdown",
      "source": [
        "Answer Here"
      ],
      "metadata": {
        "id": "Qp13pnNzphqQ"
      }
    },
    {
      "cell_type": "markdown",
      "source": [
        "##### 3. Will the gained insights help creating a positive business impact? \n",
        "Are there any insights that lead to negative growth? Justify with specific reason."
      ],
      "metadata": {
        "id": "JMzcOPDDphqR"
      }
    },
    {
      "cell_type": "markdown",
      "source": [
        "Answer Here"
      ],
      "metadata": {
        "id": "R4Ka1PC2phqR"
      }
    },
    {
      "cell_type": "markdown",
      "source": [
        "#### Chart - 11"
      ],
      "metadata": {
        "id": "x-EpHcCOp1ci"
      }
    },
    {
      "cell_type": "code",
      "source": [
        "# Chart - 11 visualization code\n",
        "Bookings_by_months_df=Hotel_booking_df1.groupby(['arrival_date_month','hotel'])['adr'].mean().reset_index()\n",
        "\n",
        "\n",
        "months=['January','February','March','April','May','June','July','August','September','October','November','December']\n",
        "\n",
        "\n",
        "Bookings_by_months_df['arrival_date_month']=pd.Categorical(Bookings_by_months_df['arrival_date_month'],categories=months,ordered=True)\n",
        "\n",
        "Bookings_by_months_df=Bookings_by_months_df.sort_values('arrival_date_month')\n",
        "\n",
        "Bookings_by_months_df"
      ],
      "metadata": {
        "id": "mAQTIvtqp1cj"
      },
      "execution_count": null,
      "outputs": []
    },
    {
      "cell_type": "code",
      "source": [
        "plt.figure(figsize=(22,10))\n",
        "sns.lineplot(x=Bookings_by_months_df['arrival_date_month'],y=Bookings_by_months_df['adr'],hue=Bookings_by_months_df['hotel'])\n",
        "\n",
        "\n",
        "plt.title('ADR across each month',fontsize=20)\n",
        "plt.xlabel('Month',fontsize=15)\n",
        "plt.ylabel('ADR',fontsize=15)"
      ],
      "metadata": {
        "id": "emG2vCLLGUT6"
      },
      "execution_count": null,
      "outputs": []
    },
    {
      "cell_type": "markdown",
      "source": [
        "##### 1. Why did you pick the specific chart?"
      ],
      "metadata": {
        "id": "X_VqEhTip1ck"
      }
    },
    {
      "cell_type": "markdown",
      "source": [
        "Answer Here."
      ],
      "metadata": {
        "id": "-vsMzt_np1ck"
      }
    },
    {
      "cell_type": "markdown",
      "source": [
        "##### 2. What is/are the insight(s) found from the chart?"
      ],
      "metadata": {
        "id": "8zGJKyg5p1ck"
      }
    },
    {
      "cell_type": "markdown",
      "source": [
        "Answer Here"
      ],
      "metadata": {
        "id": "ZYdMsrqVp1ck"
      }
    },
    {
      "cell_type": "markdown",
      "source": [
        "##### 3. Will the gained insights help creating a positive business impact? \n",
        "Are there any insights that lead to negative growth? Justify with specific reason."
      ],
      "metadata": {
        "id": "PVzmfK_Ep1ck"
      }
    },
    {
      "cell_type": "markdown",
      "source": [
        "Answer Here"
      ],
      "metadata": {
        "id": "druuKYZpp1ck"
      }
    },
    {
      "cell_type": "markdown",
      "source": [
        "#### Chart - 12"
      ],
      "metadata": {
        "id": "n3dbpmDWp1ck"
      }
    },
    {
      "cell_type": "code",
      "source": [
        "# Chart - 12 visualization code\n",
        "\n",
        "\n",
        "Hotel_booking_df1['total_stays'] = Hotel_booking_df1['stays_in_weekend_nights'] + Hotel_booking_df1['stays_in_week_nights']\n",
        "\n",
        "plt.figure(figsize=(20,10))\n",
        "\n",
        "sns.violinplot(x='arrival_date_week_number',y='total_stays',palette='Set2',data=Hotel_booking_df1)\n",
        "plt.title('Week wise number of stays',fontsize=20)\n",
        "plt.xlabel('Week number',fontsize=15)\n",
        "plt.ylabel('Number of stays',fontsize=15)"
      ],
      "metadata": {
        "id": "bwevp1tKp1ck"
      },
      "execution_count": null,
      "outputs": []
    },
    {
      "cell_type": "code",
      "source": [
        "Hotel_booking_df1['is_canceled'].value_counts().plot.pie(explode=[0.05,0.05],autopct='%1.1f%%',shadow=True,figsize=(12,8),fontsize=20)\n",
        "plt.title('Cancellation and not cancellation', fontsize=15)"
      ],
      "metadata": {
        "id": "P9QoVn2qKG-f"
      },
      "execution_count": null,
      "outputs": []
    },
    {
      "cell_type": "markdown",
      "source": [
        "##### 1. Why did you pick the specific chart?"
      ],
      "metadata": {
        "id": "ylSl6qgtp1ck"
      }
    },
    {
      "cell_type": "markdown",
      "source": [
        "Answer Here."
      ],
      "metadata": {
        "id": "m2xqNkiQp1ck"
      }
    },
    {
      "cell_type": "markdown",
      "source": [
        "##### 2. What is/are the insight(s) found from the chart?"
      ],
      "metadata": {
        "id": "ZWILFDl5p1ck"
      }
    },
    {
      "cell_type": "markdown",
      "source": [
        "Answer Here"
      ],
      "metadata": {
        "id": "x-lUsV2mp1ck"
      }
    },
    {
      "cell_type": "markdown",
      "source": [
        "##### 3. Will the gained insights help creating a positive business impact? \n",
        "Are there any insights that lead to negative growth? Justify with specific reason."
      ],
      "metadata": {
        "id": "M7G43BXep1ck"
      }
    },
    {
      "cell_type": "markdown",
      "source": [
        "Answer Here"
      ],
      "metadata": {
        "id": "5wwDJXsLp1cl"
      }
    },
    {
      "cell_type": "markdown",
      "source": [
        "#### Chart - 13"
      ],
      "metadata": {
        "id": "Ag9LCva-p1cl"
      }
    },
    {
      "cell_type": "code",
      "source": [
        "# Chart - 13 visualization code\n",
        "plt.figure(figsize=(20,10))\n",
        "\n",
        "\n",
        "\n",
        "sns.countplot(x=Hotel_booking_df1['assigned_room_type'],order=Hotel_booking_df1['assigned_room_type'].value_counts().index)\n",
        "\n",
        "plt.xlabel('Room Type',fontsize=15)\n",
        "\n",
        "plt.ylabel('Count of Room Type',fontsize=15)\n",
        "\n",
        "\n",
        "plt.title(\"Most preferred Room type\",fontsize=15)"
      ],
      "metadata": {
        "id": "EUfxeq9-p1cl"
      },
      "execution_count": null,
      "outputs": []
    },
    {
      "cell_type": "code",
      "source": [
        "\n",
        "plt.figure(figsize=(16,7))\n",
        "sns.countplot(x='arrival_date_month',hue='customer_type',palette='Set2',data=Hotel_booking_df1)\n",
        "plt.title('Types of customer arrived month wise',fontsize=18)\n",
        "plt.xlabel('Number of customers',fontsize=15)\n",
        "plt.ylabel('Months',fontsize=15)"
      ],
      "metadata": {
        "id": "HckKivXNUf2z"
      },
      "execution_count": null,
      "outputs": []
    },
    {
      "cell_type": "markdown",
      "source": [
        "##### 1. Why did you pick the specific chart?"
      ],
      "metadata": {
        "id": "E6MkPsBcp1cl"
      }
    },
    {
      "cell_type": "markdown",
      "source": [
        "Answer Here."
      ],
      "metadata": {
        "id": "V22bRsFWp1cl"
      }
    },
    {
      "cell_type": "markdown",
      "source": [
        "##### 2. What is/are the insight(s) found from the chart?"
      ],
      "metadata": {
        "id": "2cELzS2fp1cl"
      }
    },
    {
      "cell_type": "markdown",
      "source": [
        "Answer Here"
      ],
      "metadata": {
        "id": "ozQPc2_Ip1cl"
      }
    },
    {
      "cell_type": "markdown",
      "source": [
        "##### 3. Will the gained insights help creating a positive business impact? \n",
        "Are there any insights that lead to negative growth? Justify with specific reason."
      ],
      "metadata": {
        "id": "3MPXvC8up1cl"
      }
    },
    {
      "cell_type": "markdown",
      "source": [
        "Answer Here"
      ],
      "metadata": {
        "id": "GL8l1tdLp1cl"
      }
    },
    {
      "cell_type": "markdown",
      "source": [
        "#### Chart - 14 - Correlation Heatmap"
      ],
      "metadata": {
        "id": "NC_X3p0fY2L0"
      }
    },
    {
      "cell_type": "code",
      "source": [
        "# Correlation Heatmap visualization code\n",
        "plt.figure(figsize=(18,10))\n",
        "sns.heatmap(Hotel_booking_df.corr(),annot=True)\n",
        "plt.title('Co-relation of the columns',fontsize=15)"
      ],
      "metadata": {
        "id": "xyC9zolEZNRQ"
      },
      "execution_count": null,
      "outputs": []
    },
    {
      "cell_type": "markdown",
      "source": [
        "##### 1. Why did you pick the specific chart?"
      ],
      "metadata": {
        "id": "UV0SzAkaZNRQ"
      }
    },
    {
      "cell_type": "markdown",
      "source": [
        "Answer Here.\n",
        "\n",
        "To understand the relationsip between different numerical values\n",
        "\n"
      ],
      "metadata": {
        "id": "DVPuT8LYZNRQ"
      }
    },
    {
      "cell_type": "markdown",
      "source": [
        "##### 2. What is/are the insight(s) found from the chart?"
      ],
      "metadata": {
        "id": "YPEH6qLeZNRQ"
      }
    },
    {
      "cell_type": "markdown",
      "source": [
        "Answer Here:\n",
        "\n",
        "**Highest corelation value between axis is 39% positive & lowest corelation value between the axis is -9% negative.**\n",
        "\n"
      ],
      "metadata": {
        "id": "bfSqtnDqZNRR"
      }
    },
    {
      "cell_type": "markdown",
      "source": [
        "#### Chart - 15 - Pair Plot "
      ],
      "metadata": {
        "id": "q29F0dvdveiT"
      }
    },
    {
      "cell_type": "code",
      "source": [
        "# Pair Plot visualization code\n",
        "sns.pairplot(Hotel_booking_df,hue=\"is_repeated_guest\")"
      ],
      "metadata": {
        "id": "o58-TEIhveiU"
      },
      "execution_count": null,
      "outputs": []
    },
    {
      "cell_type": "markdown",
      "source": [
        "##### 1. Why did you pick the specific chart?"
      ],
      "metadata": {
        "id": "EXh0U9oCveiU"
      }
    },
    {
      "cell_type": "markdown",
      "source": [
        "Answer Here."
      ],
      "metadata": {
        "id": "eMmPjTByveiU"
      }
    },
    {
      "cell_type": "markdown",
      "source": [
        "##### 2. What is/are the insight(s) found from the chart?"
      ],
      "metadata": {
        "id": "22aHeOlLveiV"
      }
    },
    {
      "cell_type": "markdown",
      "source": [
        "Answer Here"
      ],
      "metadata": {
        "id": "uPQ8RGwHveiV"
      }
    },
    {
      "cell_type": "markdown",
      "source": [
        "## **5. Solution to Business Objective**"
      ],
      "metadata": {
        "id": "JcMwzZxoAimU"
      }
    },
    {
      "cell_type": "markdown",
      "source": [
        "#### What do you suggest the client to achieve Business Objective ? \n",
        "Explain Briefly."
      ],
      "metadata": {
        "id": "8G2x9gOozGDZ"
      }
    },
    {
      "cell_type": "markdown",
      "source": [
        "Answer Here.\n",
        "\n",
        "**Business objective attained as follows:**\n",
        "\n",
        "1.For hotel business to flourish few things which we need to consider is high revenue generation, customers satisfaction and employeee retention.\n",
        "\n",
        "2.We are able achieve the same by showing the client which are the months which are high in revenue generation by pie chart distribution\n",
        "\n",
        "3.Increasing the revenue achieved by bar chart distribution of which typre room are most reserved and what are the months likely for visitors\n",
        "\n",
        "4.So for these the client can be well prepare in advance so that minimum grievances would be faced by clients in long run and would help in further enhancement of their hospitality.\n",
        "\n",
        "5.Outliers like higher the visitor then adr has reduced drastically was shown in scattered plot so in off season client can engage with offices for bulk booking this will aslo help extra revenue generation\n",
        "\n",
        "6.We are able to show the trend of arrivals of visitor at client locations through which client engaged visitos well advance for there entaertainment and leisure activities\n",
        "\n",
        "7.We where also able to co relate the values showing the max and min percentage between them so that the percenytage lying those numbers can be enhanced by various medium\n",
        "\n"
      ],
      "metadata": {
        "id": "pASKb0qOza21"
      }
    },
    {
      "cell_type": "markdown",
      "source": [
        "# **Conclusion**"
      ],
      "metadata": {
        "id": "gCX9965dhzqZ"
      }
    },
    {
      "cell_type": "markdown",
      "source": [
        "1.City Hotel seems to be more preferred among travellers and it also generates more revenue & profit.\n",
        "\n",
        "2.Most number of bookings are made in July and August as compared rest of the months.\n",
        "\n",
        "3.Room Type A is the most preferred room type among travellers.\n",
        "\n",
        "4.Most number of bookings are made from Portugal & Great Britain.\n",
        "\n",
        "5.Most of the guest stays for 1-4 days in the hotels.\n",
        "\n",
        "6.City Hotel retains more number of guests.\n",
        "\n",
        "7.Around one-fourth of the total bookings gets cancelled. More cancellations are from City Hotel.\n",
        "\n",
        "8.New guest tends to cancel bookings more than repeated customers.\n",
        "\n",
        "9.Lead time, number of days in waiting list or assignation of reserved room to customer does not affect cancellation of bookings.\n",
        "\n",
        "10.Corporate has the most percentage of repeated guests while TA/TO has the least whereas in the case of cancelled bookings TA/TO has the most percentage while Corporate has the least.\n",
        "\n",
        "11.The length of the stay decreases as ADR increases probably to reduce the cost."
      ],
      "metadata": {
        "id": "Fjb1IsQkh3yE"
      }
    },
    {
      "cell_type": "markdown",
      "source": [
        "### ***Hurrah! You have successfully completed your EDA Capstone Project !!!***"
      ],
      "metadata": {
        "id": "gIfDvo9L0UH2"
      }
    }
  ]
}